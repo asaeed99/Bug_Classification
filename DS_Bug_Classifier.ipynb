{
 "cells": [
  {
   "cell_type": "code",
   "execution_count": 38,
   "metadata": {
    "scrolled": true
   },
   "outputs": [],
   "source": [
    "import nltk\n",
    "import numpy as np\n",
    "import os\n",
    "import pandas as pd\n",
    "import re\n",
    "from mongoengine import connect\n",
    "from nltk.corpus import stopwords\n",
    "from nltk.stem import PorterStemmer\n",
    "from nltk.stem import WordNetLemmatizer\n",
    "from nltk.tokenize import word_tokenize\n",
    "from pycoshark.mongomodels import Project, IssueSystem, Issue\n",
    "from pycoshark.utils import create_mongodb_uri_string\n",
    "from sklearn import svm\n",
    "from sklearn.ensemble import RandomForestClassifier\n",
    "from sklearn.feature_extraction.text import CountVectorizer\n",
    "from sklearn.feature_extraction.text import TfidfVectorizer\n",
    "from sklearn.linear_model import ElasticNetCV, LogisticRegression\n",
    "from sklearn.metrics import accuracy_score, precision_score, recall_score, f1_score\n",
    "from sklearn.model_selection import train_test_split\n",
    "from sklearn.naive_bayes import MultinomialNB"
   ]
  },
  {
   "cell_type": "code",
   "execution_count": 2,
   "metadata": {},
   "outputs": [],
   "source": [
    "# nltk.download('punkt')\n",
    "# nltk.download('stopwords')\n",
    "# nltk.download('wordnet')"
   ]
  },
  {
   "cell_type": "code",
   "execution_count": 3,
   "metadata": {},
   "outputs": [],
   "source": [
    "project_names = ['ant-ivy', 'archiva', 'calcite', 'cayenne', 'commons-bcel', 'commons-beanutils',\n",
    "                 'commons-codec', 'commons-collections', 'commons-compress', 'commons-configuration', \n",
    "                 'commons-dbcp', 'commons-digester', 'commons-io', 'commons-jcs', 'commons-jexl', 'commons-lang', \n",
    "                 'commons-math', 'commons-net', 'commons-rdf', 'commons-scxml', 'commons-validator', 'commons-vfs', \n",
    "                 'deltaspike', 'eagle', 'giraph', 'gora', 'jspwiki', 'kylin', 'lens', 'mahout', 'manifoldcf', \n",
    "                 'nutch', 'opennlp', 'parquet-mr', 'santuario-java', 'systemml', 'tika', 'wss4j']"
   ]
  },
  {
   "cell_type": "code",
   "execution_count": 4,
   "metadata": {},
   "outputs": [
    {
     "data": {
      "text/plain": [
       "'commons-math'"
      ]
     },
     "execution_count": 4,
     "metadata": {},
     "output_type": "execute_result"
    }
   ],
   "source": [
    "project_names[16]"
   ]
  },
  {
   "cell_type": "markdown",
   "metadata": {},
   "source": [
    "### Model for multiple projects"
   ]
  },
  {
   "cell_type": "code",
   "execution_count": 13,
   "metadata": {},
   "outputs": [
    {
     "data": {
      "text/html": [
       "<div>\n",
       "<style scoped>\n",
       "    .dataframe tbody tr th:only-of-type {\n",
       "        vertical-align: middle;\n",
       "    }\n",
       "\n",
       "    .dataframe tbody tr th {\n",
       "        vertical-align: top;\n",
       "    }\n",
       "\n",
       "    .dataframe thead th {\n",
       "        text-align: right;\n",
       "    }\n",
       "</style>\n",
       "<table border=\"1\" class=\"dataframe\">\n",
       "  <thead>\n",
       "    <tr style=\"text-align: right;\">\n",
       "      <th></th>\n",
       "      <th>Description</th>\n",
       "      <th>Issue type</th>\n",
       "      <th>Title</th>\n",
       "      <th>Label</th>\n",
       "    </tr>\n",
       "  </thead>\n",
       "  <tbody>\n",
       "    <tr>\n",
       "      <td>0</td>\n",
       "      <td>it would be nice to have an includes / exclude...</td>\n",
       "      <td>Improvement</td>\n",
       "      <td>add includes excludes feature in dependencies ...</td>\n",
       "      <td>1</td>\n",
       "    </tr>\n",
       "    <tr>\n",
       "      <td>1</td>\n",
       "      <td>fr.jayasoft.ivy.util.Message.error(...); the e...</td>\n",
       "      <td>Bug</td>\n",
       "      <td>Error messages are only displayed when turning...</td>\n",
       "      <td>0</td>\n",
       "    </tr>\n",
       "    <tr>\n",
       "      <td>2</td>\n",
       "      <td>When I do a retrieve I would like to tell the ...</td>\n",
       "      <td>New Feature</td>\n",
       "      <td>Add a \"delete\" parameter to the retrieve task</td>\n",
       "      <td>1</td>\n",
       "    </tr>\n",
       "    <tr>\n",
       "      <td>3</td>\n",
       "      <td>It would be sometimes useful to be able to def...</td>\n",
       "      <td>Improvement</td>\n",
       "      <td>possibility to define property in ivyconf.xml</td>\n",
       "      <td>1</td>\n",
       "    </tr>\n",
       "    <tr>\n",
       "      <td>4</td>\n",
       "      <td>a stack overflow error occurs when trying to f...</td>\n",
       "      <td>Bug</td>\n",
       "      <td>stack overflow error in some conflicts cases</td>\n",
       "      <td>0</td>\n",
       "    </tr>\n",
       "    <tr>\n",
       "      <td>...</td>\n",
       "      <td>...</td>\n",
       "      <td>...</td>\n",
       "      <td>...</td>\n",
       "      <td>...</td>\n",
       "    </tr>\n",
       "    <tr>\n",
       "      <td>615</td>\n",
       "      <td>Line 191 and below:\\n\\n            X509Certifi...</td>\n",
       "      <td>Bug</td>\n",
       "      <td>org.apache.ws.security.str.SignatureSTRParser ...</td>\n",
       "      <td>0</td>\n",
       "    </tr>\n",
       "    <tr>\n",
       "      <td>616</td>\n",
       "      <td>\\nThis JIRA is a placeholder to re-enable test...</td>\n",
       "      <td>Test</td>\n",
       "      <td>Test EncryptedKey elements in the Subject in a...</td>\n",
       "      <td>1</td>\n",
       "    </tr>\n",
       "    <tr>\n",
       "      <td>617</td>\n",
       "      <td>\\nWSS4J 1.6.x is incorrectly using XML-Securit...</td>\n",
       "      <td>Bug</td>\n",
       "      <td>WSS4J 1.6 incorrectly using XML-Security Resou...</td>\n",
       "      <td>0</td>\n",
       "    </tr>\n",
       "    <tr>\n",
       "      <td>618</td>\n",
       "      <td>running \"mvn\" to build latest stable CXF or la...</td>\n",
       "      <td>Bug</td>\n",
       "      <td>Tests failing with: The signature or decryptio...</td>\n",
       "      <td>0</td>\n",
       "    </tr>\n",
       "    <tr>\n",
       "      <td>619</td>\n",
       "      <td>\\nThis task is to make the Spnego Client and S...</td>\n",
       "      <td>Improvement</td>\n",
       "      <td>Make Spnego Client and Service Actions pluggable</td>\n",
       "      <td>1</td>\n",
       "    </tr>\n",
       "  </tbody>\n",
       "</table>\n",
       "<p>39517 rows × 4 columns</p>\n",
       "</div>"
      ],
      "text/plain": [
       "                                           Description   Issue type  \\\n",
       "0    it would be nice to have an includes / exclude...  Improvement   \n",
       "1    fr.jayasoft.ivy.util.Message.error(...); the e...          Bug   \n",
       "2    When I do a retrieve I would like to tell the ...  New Feature   \n",
       "3    It would be sometimes useful to be able to def...  Improvement   \n",
       "4    a stack overflow error occurs when trying to f...          Bug   \n",
       "..                                                 ...          ...   \n",
       "615  Line 191 and below:\\n\\n            X509Certifi...          Bug   \n",
       "616  \\nThis JIRA is a placeholder to re-enable test...         Test   \n",
       "617  \\nWSS4J 1.6.x is incorrectly using XML-Securit...          Bug   \n",
       "618  running \"mvn\" to build latest stable CXF or la...          Bug   \n",
       "619  \\nThis task is to make the Spnego Client and S...  Improvement   \n",
       "\n",
       "                                                 Title  Label  \n",
       "0    add includes excludes feature in dependencies ...      1  \n",
       "1    Error messages are only displayed when turning...      0  \n",
       "2        Add a \"delete\" parameter to the retrieve task      1  \n",
       "3        possibility to define property in ivyconf.xml      1  \n",
       "4         stack overflow error in some conflicts cases      0  \n",
       "..                                                 ...    ...  \n",
       "615  org.apache.ws.security.str.SignatureSTRParser ...      0  \n",
       "616  Test EncryptedKey elements in the Subject in a...      1  \n",
       "617  WSS4J 1.6 incorrectly using XML-Security Resou...      0  \n",
       "618  Tests failing with: The signature or decryptio...      0  \n",
       "619   Make Spnego Client and Service Actions pluggable      1  \n",
       "\n",
       "[39517 rows x 4 columns]"
      ]
     },
     "execution_count": 13,
     "metadata": {},
     "output_type": "execute_result"
    }
   ],
   "source": [
    "frames = []\n",
    "for i in range(len(project_names)):\n",
    "    frames.append(pd.read_csv(f'{project_names[i]}.csv'))\n",
    "# \n",
    "df = pd.concat(frames)\n",
    "df"
   ]
  },
  {
   "cell_type": "code",
   "execution_count": 14,
   "metadata": {},
   "outputs": [],
   "source": [
    "del frames"
   ]
  },
  {
   "cell_type": "code",
   "execution_count": 16,
   "metadata": {},
   "outputs": [],
   "source": [
    "#frames[16]"
   ]
  },
  {
   "cell_type": "markdown",
   "metadata": {},
   "source": [
    "### Download data from .csv"
   ]
  },
  {
   "cell_type": "code",
   "execution_count": 162,
   "metadata": {},
   "outputs": [
    {
     "data": {
      "text/html": [
       "<div>\n",
       "<style scoped>\n",
       "    .dataframe tbody tr th:only-of-type {\n",
       "        vertical-align: middle;\n",
       "    }\n",
       "\n",
       "    .dataframe tbody tr th {\n",
       "        vertical-align: top;\n",
       "    }\n",
       "\n",
       "    .dataframe thead th {\n",
       "        text-align: right;\n",
       "    }\n",
       "</style>\n",
       "<table border=\"1\" class=\"dataframe\">\n",
       "  <thead>\n",
       "    <tr style=\"text-align: right;\">\n",
       "      <th></th>\n",
       "      <th>Description</th>\n",
       "      <th>Issue type</th>\n",
       "      <th>Title</th>\n",
       "      <th>Label</th>\n",
       "    </tr>\n",
       "  </thead>\n",
       "  <tbody>\n",
       "    <tr>\n",
       "      <td>0</td>\n",
       "      <td>/*\\n * Copyright 2003-2004 The Apache Software...</td>\n",
       "      <td>Improvement</td>\n",
       "      <td>Adding new methods to RealMatrix</td>\n",
       "      <td>1</td>\n",
       "    </tr>\n",
       "    <tr>\n",
       "      <td>1</td>\n",
       "      <td></td>\n",
       "      <td>Bug</td>\n",
       "      <td>[math] fixed some javadoc and checkstyle warnings</td>\n",
       "      <td>0</td>\n",
       "    </tr>\n",
       "    <tr>\n",
       "      <td>2</td>\n",
       "      <td>I did some profiling on a project and found a ...</td>\n",
       "      <td>Bug</td>\n",
       "      <td>[patch] Gamma.logGamma performance</td>\n",
       "      <td>0</td>\n",
       "    </tr>\n",
       "    <tr>\n",
       "      <td>3</td>\n",
       "      <td>In MathUtilsTest I found the following code:\\n...</td>\n",
       "      <td>Bug</td>\n",
       "      <td>[math] Failure to fail when testing for except...</td>\n",
       "      <td>0</td>\n",
       "    </tr>\n",
       "    <tr>\n",
       "      <td>4</td>\n",
       "      <td>Added text to the root finding portion of the ...</td>\n",
       "      <td>Bug</td>\n",
       "      <td>[math] user guide additions - root finding</td>\n",
       "      <td>0</td>\n",
       "    </tr>\n",
       "    <tr>\n",
       "      <td>...</td>\n",
       "      <td>...</td>\n",
       "      <td>...</td>\n",
       "      <td>...</td>\n",
       "      <td>...</td>\n",
       "    </tr>\n",
       "    <tr>\n",
       "      <td>1403</td>\n",
       "      <td>RealFieldElement in some cases could be used a...</td>\n",
       "      <td>Wish</td>\n",
       "      <td>Make RealFieldElement implement Number</td>\n",
       "      <td>1</td>\n",
       "    </tr>\n",
       "    <tr>\n",
       "      <td>1404</td>\n",
       "      <td>When created from boundaries consisting of two...</td>\n",
       "      <td>Bug</td>\n",
       "      <td>PolygonsSet does not handle intersecting infin...</td>\n",
       "      <td>0</td>\n",
       "    </tr>\n",
       "    <tr>\n",
       "      <td>1405</td>\n",
       "      <td>The o.a.c.m.geometry.euclidean.twod.PolygonsSe...</td>\n",
       "      <td>Bug</td>\n",
       "      <td>PolygonsSet.getBarycenter() returns incorrect ...</td>\n",
       "      <td>0</td>\n",
       "    </tr>\n",
       "    <tr>\n",
       "      <td>1406</td>\n",
       "      <td>I've found an infinite loop when recombining t...</td>\n",
       "      <td>Bug</td>\n",
       "      <td>Infinite loop for CycleCrossover with duplicates</td>\n",
       "      <td>0</td>\n",
       "    </tr>\n",
       "    <tr>\n",
       "      <td>1407</td>\n",
       "      <td>According to the documentation, for open infin...</td>\n",
       "      <td>Bug</td>\n",
       "      <td>PolygonsSet sets incorrect value for last vert...</td>\n",
       "      <td>0</td>\n",
       "    </tr>\n",
       "  </tbody>\n",
       "</table>\n",
       "<p>1408 rows × 4 columns</p>\n",
       "</div>"
      ],
      "text/plain": [
       "                                            Description   Issue type  \\\n",
       "0     /*\\n * Copyright 2003-2004 The Apache Software...  Improvement   \n",
       "1                                                                Bug   \n",
       "2     I did some profiling on a project and found a ...          Bug   \n",
       "3     In MathUtilsTest I found the following code:\\n...          Bug   \n",
       "4     Added text to the root finding portion of the ...          Bug   \n",
       "...                                                 ...          ...   \n",
       "1403  RealFieldElement in some cases could be used a...         Wish   \n",
       "1404  When created from boundaries consisting of two...          Bug   \n",
       "1405  The o.a.c.m.geometry.euclidean.twod.PolygonsSe...          Bug   \n",
       "1406  I've found an infinite loop when recombining t...          Bug   \n",
       "1407  According to the documentation, for open infin...          Bug   \n",
       "\n",
       "                                                  Title  Label  \n",
       "0                      Adding new methods to RealMatrix      1  \n",
       "1     [math] fixed some javadoc and checkstyle warnings      0  \n",
       "2                    [patch] Gamma.logGamma performance      0  \n",
       "3     [math] Failure to fail when testing for except...      0  \n",
       "4            [math] user guide additions - root finding      0  \n",
       "...                                                 ...    ...  \n",
       "1403             Make RealFieldElement implement Number      1  \n",
       "1404  PolygonsSet does not handle intersecting infin...      0  \n",
       "1405  PolygonsSet.getBarycenter() returns incorrect ...      0  \n",
       "1406   Infinite loop for CycleCrossover with duplicates      0  \n",
       "1407  PolygonsSet sets incorrect value for last vert...      0  \n",
       "\n",
       "[1408 rows x 4 columns]"
      ]
     },
     "execution_count": 162,
     "metadata": {},
     "output_type": "execute_result"
    }
   ],
   "source": [
    "df = pd.read_csv(f'{project_names[16]}.csv')\n",
    "df"
   ]
  },
  {
   "cell_type": "code",
   "execution_count": 17,
   "metadata": {},
   "outputs": [
    {
     "data": {
      "text/html": [
       "<div>\n",
       "<style scoped>\n",
       "    .dataframe tbody tr th:only-of-type {\n",
       "        vertical-align: middle;\n",
       "    }\n",
       "\n",
       "    .dataframe tbody tr th {\n",
       "        vertical-align: top;\n",
       "    }\n",
       "\n",
       "    .dataframe thead th {\n",
       "        text-align: right;\n",
       "    }\n",
       "</style>\n",
       "<table border=\"1\" class=\"dataframe\">\n",
       "  <thead>\n",
       "    <tr style=\"text-align: right;\">\n",
       "      <th></th>\n",
       "      <th>Description</th>\n",
       "      <th>Issue type</th>\n",
       "      <th>Title</th>\n",
       "      <th>Label</th>\n",
       "      <th>TitleDescription</th>\n",
       "    </tr>\n",
       "  </thead>\n",
       "  <tbody>\n",
       "    <tr>\n",
       "      <td>0</td>\n",
       "      <td>it would be nice to have an includes / exclude...</td>\n",
       "      <td>Improvement</td>\n",
       "      <td>add includes excludes feature in dependencies ...</td>\n",
       "      <td>1</td>\n",
       "      <td>it would be nice to have an includes / exclude...</td>\n",
       "    </tr>\n",
       "    <tr>\n",
       "      <td>1</td>\n",
       "      <td>fr.jayasoft.ivy.util.Message.error(...); the e...</td>\n",
       "      <td>Bug</td>\n",
       "      <td>Error messages are only displayed when turning...</td>\n",
       "      <td>0</td>\n",
       "      <td>fr.jayasoft.ivy.util.Message.error(...); the e...</td>\n",
       "    </tr>\n",
       "    <tr>\n",
       "      <td>2</td>\n",
       "      <td>When I do a retrieve I would like to tell the ...</td>\n",
       "      <td>New Feature</td>\n",
       "      <td>Add a \"delete\" parameter to the retrieve task</td>\n",
       "      <td>1</td>\n",
       "      <td>When I do a retrieve I would like to tell the ...</td>\n",
       "    </tr>\n",
       "    <tr>\n",
       "      <td>3</td>\n",
       "      <td>It would be sometimes useful to be able to def...</td>\n",
       "      <td>Improvement</td>\n",
       "      <td>possibility to define property in ivyconf.xml</td>\n",
       "      <td>1</td>\n",
       "      <td>It would be sometimes useful to be able to def...</td>\n",
       "    </tr>\n",
       "    <tr>\n",
       "      <td>4</td>\n",
       "      <td>a stack overflow error occurs when trying to f...</td>\n",
       "      <td>Bug</td>\n",
       "      <td>stack overflow error in some conflicts cases</td>\n",
       "      <td>0</td>\n",
       "      <td>a stack overflow error occurs when trying to f...</td>\n",
       "    </tr>\n",
       "    <tr>\n",
       "      <td>...</td>\n",
       "      <td>...</td>\n",
       "      <td>...</td>\n",
       "      <td>...</td>\n",
       "      <td>...</td>\n",
       "      <td>...</td>\n",
       "    </tr>\n",
       "    <tr>\n",
       "      <td>615</td>\n",
       "      <td>Line 191 and below:\\n\\n            X509Certifi...</td>\n",
       "      <td>Bug</td>\n",
       "      <td>org.apache.ws.security.str.SignatureSTRParser ...</td>\n",
       "      <td>0</td>\n",
       "      <td>Line 191 and below:\\n\\n            X509Certifi...</td>\n",
       "    </tr>\n",
       "    <tr>\n",
       "      <td>616</td>\n",
       "      <td>\\nThis JIRA is a placeholder to re-enable test...</td>\n",
       "      <td>Test</td>\n",
       "      <td>Test EncryptedKey elements in the Subject in a...</td>\n",
       "      <td>1</td>\n",
       "      <td>\\nThis JIRA is a placeholder to re-enable test...</td>\n",
       "    </tr>\n",
       "    <tr>\n",
       "      <td>617</td>\n",
       "      <td>\\nWSS4J 1.6.x is incorrectly using XML-Securit...</td>\n",
       "      <td>Bug</td>\n",
       "      <td>WSS4J 1.6 incorrectly using XML-Security Resou...</td>\n",
       "      <td>0</td>\n",
       "      <td>\\nWSS4J 1.6.x is incorrectly using XML-Securit...</td>\n",
       "    </tr>\n",
       "    <tr>\n",
       "      <td>618</td>\n",
       "      <td>running \"mvn\" to build latest stable CXF or la...</td>\n",
       "      <td>Bug</td>\n",
       "      <td>Tests failing with: The signature or decryptio...</td>\n",
       "      <td>0</td>\n",
       "      <td>running \"mvn\" to build latest stable CXF or la...</td>\n",
       "    </tr>\n",
       "    <tr>\n",
       "      <td>619</td>\n",
       "      <td>\\nThis task is to make the Spnego Client and S...</td>\n",
       "      <td>Improvement</td>\n",
       "      <td>Make Spnego Client and Service Actions pluggable</td>\n",
       "      <td>1</td>\n",
       "      <td>\\nThis task is to make the Spnego Client and S...</td>\n",
       "    </tr>\n",
       "  </tbody>\n",
       "</table>\n",
       "<p>39517 rows × 5 columns</p>\n",
       "</div>"
      ],
      "text/plain": [
       "                                           Description   Issue type  \\\n",
       "0    it would be nice to have an includes / exclude...  Improvement   \n",
       "1    fr.jayasoft.ivy.util.Message.error(...); the e...          Bug   \n",
       "2    When I do a retrieve I would like to tell the ...  New Feature   \n",
       "3    It would be sometimes useful to be able to def...  Improvement   \n",
       "4    a stack overflow error occurs when trying to f...          Bug   \n",
       "..                                                 ...          ...   \n",
       "615  Line 191 and below:\\n\\n            X509Certifi...          Bug   \n",
       "616  \\nThis JIRA is a placeholder to re-enable test...         Test   \n",
       "617  \\nWSS4J 1.6.x is incorrectly using XML-Securit...          Bug   \n",
       "618  running \"mvn\" to build latest stable CXF or la...          Bug   \n",
       "619  \\nThis task is to make the Spnego Client and S...  Improvement   \n",
       "\n",
       "                                                 Title  Label  \\\n",
       "0    add includes excludes feature in dependencies ...      1   \n",
       "1    Error messages are only displayed when turning...      0   \n",
       "2        Add a \"delete\" parameter to the retrieve task      1   \n",
       "3        possibility to define property in ivyconf.xml      1   \n",
       "4         stack overflow error in some conflicts cases      0   \n",
       "..                                                 ...    ...   \n",
       "615  org.apache.ws.security.str.SignatureSTRParser ...      0   \n",
       "616  Test EncryptedKey elements in the Subject in a...      1   \n",
       "617  WSS4J 1.6 incorrectly using XML-Security Resou...      0   \n",
       "618  Tests failing with: The signature or decryptio...      0   \n",
       "619   Make Spnego Client and Service Actions pluggable      1   \n",
       "\n",
       "                                      TitleDescription  \n",
       "0    it would be nice to have an includes / exclude...  \n",
       "1    fr.jayasoft.ivy.util.Message.error(...); the e...  \n",
       "2    When I do a retrieve I would like to tell the ...  \n",
       "3    It would be sometimes useful to be able to def...  \n",
       "4    a stack overflow error occurs when trying to f...  \n",
       "..                                                 ...  \n",
       "615  Line 191 and below:\\n\\n            X509Certifi...  \n",
       "616  \\nThis JIRA is a placeholder to re-enable test...  \n",
       "617  \\nWSS4J 1.6.x is incorrectly using XML-Securit...  \n",
       "618  running \"mvn\" to build latest stable CXF or la...  \n",
       "619  \\nThis task is to make the Spnego Client and S...  \n",
       "\n",
       "[39517 rows x 5 columns]"
      ]
     },
     "execution_count": 17,
     "metadata": {},
     "output_type": "execute_result"
    }
   ],
   "source": [
    "df['TitleDescription'] = df['Description'] + ' ' + df['Title']\n",
    "df"
   ]
  },
  {
   "cell_type": "markdown",
   "metadata": {},
   "source": [
    "### Preprocessing the data"
   ]
  },
  {
   "cell_type": "markdown",
   "metadata": {},
   "source": [
    "Bag of words"
   ]
  },
  {
   "cell_type": "markdown",
   "metadata": {},
   "source": [
    "TF-IDF"
   ]
  },
  {
   "cell_type": "code",
   "execution_count": 21,
   "metadata": {},
   "outputs": [],
   "source": [
    "desc_title = df['TitleDescription'].tolist()"
   ]
  },
  {
   "cell_type": "code",
   "execution_count": 22,
   "metadata": {},
   "outputs": [
    {
     "data": {
      "text/plain": [
       "\"a stack overflow error occurs when trying to force a revision which isn't the one selected during another conflict resolution. See http://www.jayasoft.org/node/365 for details. stack overflow error in some conflicts cases\""
      ]
     },
     "execution_count": 22,
     "metadata": {},
     "output_type": "execute_result"
    }
   ],
   "source": [
    "desc_title[4]"
   ]
  },
  {
   "cell_type": "code",
   "execution_count": 23,
   "metadata": {},
   "outputs": [
    {
     "data": {
      "text/plain": [
       "' stack overflow error occurs when trying to force  revision which isn  the one selected during another conflict resolution see http www jayasoft org node for details stack overflow error in some conflicts cases'"
      ]
     },
     "execution_count": 23,
     "metadata": {},
     "output_type": "execute_result"
    }
   ],
   "source": [
    "for i in range (len(desc_title)):\n",
    "    # Convert sentence to lower case\n",
    "    desc_title[i] = str(desc_title[i]).lower()\n",
    "    # Remove Numbers\n",
    "    desc_title[i] = re.sub(r'\\d+',' ', desc_title[i])\n",
    "    # Remove the punctuation and empty spaces from the text\n",
    "    desc_title[i] = re.sub(r'\\W',' ',desc_title[i])\n",
    "    desc_title[i] = re.sub(r'\\s+',' ',desc_title[i])\n",
    "    # Remove single word in regular expression\n",
    "    desc_title[i] = re.sub(r'\\b[a-zA-Z]\\b', '', desc_title[i])\n",
    "\n",
    "    \n",
    "desc_title[4]"
   ]
  },
  {
   "cell_type": "code",
   "execution_count": 24,
   "metadata": {},
   "outputs": [
    {
     "data": {
      "text/plain": [
       "['stack',\n",
       " 'overflow',\n",
       " 'error',\n",
       " 'occurs',\n",
       " 'trying',\n",
       " 'force',\n",
       " 'revision',\n",
       " 'one',\n",
       " 'selected',\n",
       " 'another',\n",
       " 'conflict',\n",
       " 'resolution',\n",
       " 'see',\n",
       " 'http',\n",
       " 'www',\n",
       " 'jayasoft',\n",
       " 'org',\n",
       " 'node',\n",
       " 'details',\n",
       " 'stack',\n",
       " 'overflow',\n",
       " 'error',\n",
       " 'conflicts',\n",
       " 'cases']"
      ]
     },
     "execution_count": 24,
     "metadata": {},
     "output_type": "execute_result"
    }
   ],
   "source": [
    "# Remove stop words\n",
    "stopword = stopwords.words('english')\n",
    "\n",
    "\n",
    "for i in range(len(desc_title)):\n",
    "    word_tokens = nltk.word_tokenize(desc_title[i])\n",
    "    desc_title[i] = [word for word in word_tokens if word not in stopword]\n",
    "\n",
    "desc_title[4]"
   ]
  },
  {
   "cell_type": "code",
   "execution_count": 25,
   "metadata": {},
   "outputs": [
    {
     "data": {
      "text/plain": [
       "'overflow'"
      ]
     },
     "execution_count": 25,
     "metadata": {},
     "output_type": "execute_result"
    }
   ],
   "source": [
    "desc_title[4][1]"
   ]
  },
  {
   "cell_type": "code",
   "execution_count": 26,
   "metadata": {},
   "outputs": [
    {
     "data": {
      "text/plain": [
       "['stack',\n",
       " 'overflow',\n",
       " 'error',\n",
       " 'occur',\n",
       " 'tri',\n",
       " 'forc',\n",
       " 'revis',\n",
       " 'one',\n",
       " 'select',\n",
       " 'anoth',\n",
       " 'conflict',\n",
       " 'resolut',\n",
       " 'see',\n",
       " 'http',\n",
       " 'www',\n",
       " 'jayasoft',\n",
       " 'org',\n",
       " 'node',\n",
       " 'detail',\n",
       " 'stack',\n",
       " 'overflow',\n",
       " 'error',\n",
       " 'conflict',\n",
       " 'case']"
      ]
     },
     "execution_count": 26,
     "metadata": {},
     "output_type": "execute_result"
    }
   ],
   "source": [
    "# Stemming\n",
    "stemmer= PorterStemmer()\n",
    "\n",
    "for i in range(len(desc_title)):\n",
    "    for j in range(len(desc_title[i])):\n",
    "        desc_title[i][j] = stemmer.stem(desc_title[i][j])\n",
    "    #for word in desc_issue_types[i][0]:\n",
    "        \n",
    "        #print(stemmer.stem(word))\n",
    "        \n",
    "desc_title[4]"
   ]
  },
  {
   "cell_type": "code",
   "execution_count": 27,
   "metadata": {},
   "outputs": [
    {
     "data": {
      "text/plain": [
       "['stack',\n",
       " 'overflow',\n",
       " 'error',\n",
       " 'occur',\n",
       " 'tri',\n",
       " 'forc',\n",
       " 'revis',\n",
       " 'one',\n",
       " 'select',\n",
       " 'anoth',\n",
       " 'conflict',\n",
       " 'resolut',\n",
       " 'see',\n",
       " 'http',\n",
       " 'www',\n",
       " 'jayasoft',\n",
       " 'org',\n",
       " 'node',\n",
       " 'detail',\n",
       " 'stack',\n",
       " 'overflow',\n",
       " 'error',\n",
       " 'conflict',\n",
       " 'case']"
      ]
     },
     "execution_count": 27,
     "metadata": {},
     "output_type": "execute_result"
    }
   ],
   "source": [
    "# Lemmatization\n",
    "\n",
    "lemmatizer = WordNetLemmatizer()\n",
    "\n",
    "for i in range(len(desc_title)):\n",
    "    for j in range(len(desc_title[i])):\n",
    "        desc_title[i][j] = lemmatizer.lemmatize(desc_title[i][j])\n",
    "\n",
    "desc_title[4]\n"
   ]
  },
  {
   "cell_type": "code",
   "execution_count": 31,
   "metadata": {},
   "outputs": [],
   "source": [
    "#title = ([df['Description'].tolist(), df['Issue type'].tolist(), df['Title'].tolist()])"
   ]
  },
  {
   "cell_type": "code",
   "execution_count": 34,
   "metadata": {},
   "outputs": [
    {
     "data": {
      "text/plain": [
       "1538"
      ]
     },
     "execution_count": 34,
     "metadata": {},
     "output_type": "execute_result"
    }
   ],
   "source": [
    "#len(df['Description'].tolist())"
   ]
  },
  {
   "cell_type": "code",
   "execution_count": 32,
   "metadata": {},
   "outputs": [
    {
     "data": {
      "text/plain": [
       "3"
      ]
     },
     "execution_count": 32,
     "metadata": {},
     "output_type": "execute_result"
    }
   ],
   "source": [
    "#len(title)"
   ]
  },
  {
   "cell_type": "code",
   "execution_count": 28,
   "metadata": {},
   "outputs": [],
   "source": [
    "# Convert list to a string \n",
    "       \n",
    "desc_title_string = []\n",
    "for i in range(len(desc_title)):\n",
    "    s = ' '.join(str(word) for word in desc_title[i])\n",
    "    desc_title_string.append(s)  \n",
    "    #desc_title_string.append([s, title[i][1]])  "
   ]
  },
  {
   "cell_type": "code",
   "execution_count": 29,
   "metadata": {},
   "outputs": [
    {
     "data": {
      "text/plain": [
       "'stack overflow error occur tri forc revis one select anoth conflict resolut see http www jayasoft org node detail stack overflow error conflict case'"
      ]
     },
     "execution_count": 29,
     "metadata": {},
     "output_type": "execute_result"
    }
   ],
   "source": [
    "desc_title_string[4]"
   ]
  },
  {
   "cell_type": "code",
   "execution_count": 30,
   "metadata": {},
   "outputs": [],
   "source": [
    "df['DescriptionTitle'] = desc_title_string"
   ]
  },
  {
   "cell_type": "code",
   "execution_count": 139,
   "metadata": {},
   "outputs": [
    {
     "data": {
      "text/html": [
       "<div>\n",
       "<style scoped>\n",
       "    .dataframe tbody tr th:only-of-type {\n",
       "        vertical-align: middle;\n",
       "    }\n",
       "\n",
       "    .dataframe tbody tr th {\n",
       "        vertical-align: top;\n",
       "    }\n",
       "\n",
       "    .dataframe thead th {\n",
       "        text-align: right;\n",
       "    }\n",
       "</style>\n",
       "<table border=\"1\" class=\"dataframe\">\n",
       "  <thead>\n",
       "    <tr style=\"text-align: right;\">\n",
       "      <th></th>\n",
       "      <th>Description</th>\n",
       "      <th>Title</th>\n",
       "      <th>DescriptionTitle</th>\n",
       "      <th>Issue type</th>\n",
       "      <th>Label</th>\n",
       "    </tr>\n",
       "  </thead>\n",
       "  <tbody>\n",
       "    <tr>\n",
       "      <td>0</td>\n",
       "      <td>it would be nice to have an includes / exclude...</td>\n",
       "      <td>add includes excludes feature in dependencies ...</td>\n",
       "      <td>would nice includ exclud artifact depend descr...</td>\n",
       "      <td>Improvement</td>\n",
       "      <td>1</td>\n",
       "    </tr>\n",
       "    <tr>\n",
       "      <td>1</td>\n",
       "      <td>fr.jayasoft.ivy.util.Message.error(...); the e...</td>\n",
       "      <td>Error messages are only displayed when turning...</td>\n",
       "      <td>fr jayasoft ivi util messag error error method...</td>\n",
       "      <td>Bug</td>\n",
       "      <td>0</td>\n",
       "    </tr>\n",
       "    <tr>\n",
       "      <td>2</td>\n",
       "      <td>When I do a retrieve I would like to tell the ...</td>\n",
       "      <td>Add a \"delete\" parameter to the retrieve task</td>\n",
       "      <td>retriev would like tell task delet artifact re...</td>\n",
       "      <td>New Feature</td>\n",
       "      <td>1</td>\n",
       "    </tr>\n",
       "    <tr>\n",
       "      <td>3</td>\n",
       "      <td>It would be sometimes useful to be able to def...</td>\n",
       "      <td>possibility to define property in ivyconf.xml</td>\n",
       "      <td>would sometim use abl defin ivi variabl direct...</td>\n",
       "      <td>Improvement</td>\n",
       "      <td>1</td>\n",
       "    </tr>\n",
       "    <tr>\n",
       "      <td>4</td>\n",
       "      <td>a stack overflow error occurs when trying to f...</td>\n",
       "      <td>stack overflow error in some conflicts cases</td>\n",
       "      <td>stack overflow error occur tri forc revis one ...</td>\n",
       "      <td>Bug</td>\n",
       "      <td>0</td>\n",
       "    </tr>\n",
       "    <tr>\n",
       "      <td>...</td>\n",
       "      <td>...</td>\n",
       "      <td>...</td>\n",
       "      <td>...</td>\n",
       "      <td>...</td>\n",
       "      <td>...</td>\n",
       "    </tr>\n",
       "    <tr>\n",
       "      <td>39512</td>\n",
       "      <td>Line 191 and below:\\n\\n            X509Certifi...</td>\n",
       "      <td>org.apache.ws.security.str.SignatureSTRParser ...</td>\n",
       "      <td>line certif foundcert secref getx issuerseri c...</td>\n",
       "      <td>Bug</td>\n",
       "      <td>0</td>\n",
       "    </tr>\n",
       "    <tr>\n",
       "      <td>39513</td>\n",
       "      <td>\\nThis JIRA is a placeholder to re-enable test...</td>\n",
       "      <td>Test EncryptedKey elements in the Subject in a...</td>\n",
       "      <td>jira placehold enabl test specif process saml ...</td>\n",
       "      <td>Test</td>\n",
       "      <td>1</td>\n",
       "    </tr>\n",
       "    <tr>\n",
       "      <td>39514</td>\n",
       "      <td>\\nWSS4J 1.6.x is incorrectly using XML-Securit...</td>\n",
       "      <td>WSS4J 1.6 incorrectly using XML-Security Resou...</td>\n",
       "      <td>w incorrectli use xml secur resourceresolv res...</td>\n",
       "      <td>Bug</td>\n",
       "      <td>0</td>\n",
       "    </tr>\n",
       "    <tr>\n",
       "      <td>39515</td>\n",
       "      <td>running \"mvn\" to build latest stable CXF or la...</td>\n",
       "      <td>Tests failing with: The signature or decryptio...</td>\n",
       "      <td>run mvn build latest stabl cxf latest trunk cx...</td>\n",
       "      <td>Bug</td>\n",
       "      <td>0</td>\n",
       "    </tr>\n",
       "    <tr>\n",
       "      <td>39516</td>\n",
       "      <td>\\nThis task is to make the Spnego Client and S...</td>\n",
       "      <td>Make Spnego Client and Service Actions pluggable</td>\n",
       "      <td>task make spnego client servic action class pl...</td>\n",
       "      <td>Improvement</td>\n",
       "      <td>1</td>\n",
       "    </tr>\n",
       "  </tbody>\n",
       "</table>\n",
       "<p>39516 rows × 5 columns</p>\n",
       "</div>"
      ],
      "text/plain": [
       "                                             Description  \\\n",
       "0      it would be nice to have an includes / exclude...   \n",
       "1      fr.jayasoft.ivy.util.Message.error(...); the e...   \n",
       "2      When I do a retrieve I would like to tell the ...   \n",
       "3      It would be sometimes useful to be able to def...   \n",
       "4      a stack overflow error occurs when trying to f...   \n",
       "...                                                  ...   \n",
       "39512  Line 191 and below:\\n\\n            X509Certifi...   \n",
       "39513  \\nThis JIRA is a placeholder to re-enable test...   \n",
       "39514  \\nWSS4J 1.6.x is incorrectly using XML-Securit...   \n",
       "39515  running \"mvn\" to build latest stable CXF or la...   \n",
       "39516  \\nThis task is to make the Spnego Client and S...   \n",
       "\n",
       "                                                   Title  \\\n",
       "0      add includes excludes feature in dependencies ...   \n",
       "1      Error messages are only displayed when turning...   \n",
       "2          Add a \"delete\" parameter to the retrieve task   \n",
       "3          possibility to define property in ivyconf.xml   \n",
       "4           stack overflow error in some conflicts cases   \n",
       "...                                                  ...   \n",
       "39512  org.apache.ws.security.str.SignatureSTRParser ...   \n",
       "39513  Test EncryptedKey elements in the Subject in a...   \n",
       "39514  WSS4J 1.6 incorrectly using XML-Security Resou...   \n",
       "39515  Tests failing with: The signature or decryptio...   \n",
       "39516   Make Spnego Client and Service Actions pluggable   \n",
       "\n",
       "                                        DescriptionTitle   Issue type  Label  \n",
       "0      would nice includ exclud artifact depend descr...  Improvement      1  \n",
       "1      fr jayasoft ivi util messag error error method...          Bug      0  \n",
       "2      retriev would like tell task delet artifact re...  New Feature      1  \n",
       "3      would sometim use abl defin ivi variabl direct...  Improvement      1  \n",
       "4      stack overflow error occur tri forc revis one ...          Bug      0  \n",
       "...                                                  ...          ...    ...  \n",
       "39512  line certif foundcert secref getx issuerseri c...          Bug      0  \n",
       "39513  jira placehold enabl test specif process saml ...         Test      1  \n",
       "39514  w incorrectli use xml secur resourceresolv res...          Bug      0  \n",
       "39515  run mvn build latest stabl cxf latest trunk cx...          Bug      0  \n",
       "39516  task make spnego client servic action class pl...  Improvement      1  \n",
       "\n",
       "[39516 rows x 5 columns]"
      ]
     },
     "execution_count": 139,
     "metadata": {},
     "output_type": "execute_result"
    }
   ],
   "source": [
    "#df2 = df.drop(['TitleDescription'], axis=1)\n",
    "df2 = df2[['Description', 'Title', 'DescriptionTitle', 'Issue type', 'Label']]\n",
    "df2"
   ]
  },
  {
   "cell_type": "code",
   "execution_count": 32,
   "metadata": {},
   "outputs": [],
   "source": [
    "df.to_csv (f'first_38.csv', index = None, header=True) \n"
   ]
  },
  {
   "cell_type": "code",
   "execution_count": 5,
   "metadata": {},
   "outputs": [],
   "source": [
    "df = pd.read_csv('first_38.csv')"
   ]
  },
  {
   "cell_type": "code",
   "execution_count": 25,
   "metadata": {},
   "outputs": [
    {
     "name": "stdout",
     "output_type": "stream",
     "text": [
      "Size of the training subset: 29637\n"
     ]
    }
   ],
   "source": [
    "# Split the data to training and test subsets\n",
    "X_train, X_test, y_train, y_test = train_test_split(df['DescriptionTitle'], df['Label'], random_state=1,\n",
    "                                                    test_size=0.25)\n",
    "print(f'Size of the training subset: {len(X_test)}')\n",
    "\n",
    "# #np.where(pd.isna(X_train))\n",
    "# X_train.drop\n",
    "# y_train.iloc[3467]\n",
    "# X_train = X_train[pd.notnull(X_train)]\n",
    "# X_test = X_test[pd.notnull(X_test)]"
   ]
  },
  {
   "cell_type": "code",
   "execution_count": 27,
   "metadata": {},
   "outputs": [],
   "source": [
    "tfidf = TfidfVectorizer()\n",
    "X_train_tf = tfidf.fit_transform(X_train)\n",
    "X_test_tf =tfidf.transform(X_test)"
   ]
  },
  {
   "cell_type": "code",
   "execution_count": 7,
   "metadata": {},
   "outputs": [
    {
     "name": "stdout",
     "output_type": "stream",
     "text": [
      "Size of the training subset: 29637\n"
     ]
    },
    {
     "ename": "ValueError",
     "evalue": "np.nan is an invalid document, expected byte or unicode string.",
     "output_type": "error",
     "traceback": [
      "\u001b[1;31m---------------------------------------------------------------------------\u001b[0m",
      "\u001b[1;31mValueError\u001b[0m                                Traceback (most recent call last)",
      "\u001b[1;32m<ipython-input-7-713c8db40caf>\u001b[0m in \u001b[0;36m<module>\u001b[1;34m\u001b[0m\n\u001b[0;32m      5\u001b[0m \u001b[1;33m\u001b[0m\u001b[0m\n\u001b[0;32m      6\u001b[0m \u001b[0mtfidf\u001b[0m \u001b[1;33m=\u001b[0m \u001b[0mTfidfVectorizer\u001b[0m\u001b[1;33m(\u001b[0m\u001b[1;33m)\u001b[0m\u001b[1;33m\u001b[0m\u001b[1;33m\u001b[0m\u001b[0m\n\u001b[1;32m----> 7\u001b[1;33m \u001b[0mX_train_tf\u001b[0m \u001b[1;33m=\u001b[0m \u001b[0mtfidf\u001b[0m\u001b[1;33m.\u001b[0m\u001b[0mfit_transform\u001b[0m\u001b[1;33m(\u001b[0m\u001b[0mX_train\u001b[0m\u001b[1;33m)\u001b[0m\u001b[1;33m\u001b[0m\u001b[1;33m\u001b[0m\u001b[0m\n\u001b[0m\u001b[0;32m      8\u001b[0m \u001b[0mX_test_tf\u001b[0m \u001b[1;33m=\u001b[0m\u001b[0mtfidf\u001b[0m\u001b[1;33m.\u001b[0m\u001b[0mtransform\u001b[0m\u001b[1;33m(\u001b[0m\u001b[0mX_test\u001b[0m\u001b[1;33m)\u001b[0m\u001b[1;33m\u001b[0m\u001b[1;33m\u001b[0m\u001b[0m\n",
      "\u001b[1;32m~\\Anaconda3\\lib\\site-packages\\sklearn\\feature_extraction\\text.py\u001b[0m in \u001b[0;36mfit_transform\u001b[1;34m(self, raw_documents, y)\u001b[0m\n\u001b[0;32m   1650\u001b[0m         \"\"\"\n\u001b[0;32m   1651\u001b[0m         \u001b[0mself\u001b[0m\u001b[1;33m.\u001b[0m\u001b[0m_check_params\u001b[0m\u001b[1;33m(\u001b[0m\u001b[1;33m)\u001b[0m\u001b[1;33m\u001b[0m\u001b[1;33m\u001b[0m\u001b[0m\n\u001b[1;32m-> 1652\u001b[1;33m         \u001b[0mX\u001b[0m \u001b[1;33m=\u001b[0m \u001b[0msuper\u001b[0m\u001b[1;33m(\u001b[0m\u001b[1;33m)\u001b[0m\u001b[1;33m.\u001b[0m\u001b[0mfit_transform\u001b[0m\u001b[1;33m(\u001b[0m\u001b[0mraw_documents\u001b[0m\u001b[1;33m)\u001b[0m\u001b[1;33m\u001b[0m\u001b[1;33m\u001b[0m\u001b[0m\n\u001b[0m\u001b[0;32m   1653\u001b[0m         \u001b[0mself\u001b[0m\u001b[1;33m.\u001b[0m\u001b[0m_tfidf\u001b[0m\u001b[1;33m.\u001b[0m\u001b[0mfit\u001b[0m\u001b[1;33m(\u001b[0m\u001b[0mX\u001b[0m\u001b[1;33m)\u001b[0m\u001b[1;33m\u001b[0m\u001b[1;33m\u001b[0m\u001b[0m\n\u001b[0;32m   1654\u001b[0m         \u001b[1;31m# X is already a transformed view of raw_documents so\u001b[0m\u001b[1;33m\u001b[0m\u001b[1;33m\u001b[0m\u001b[1;33m\u001b[0m\u001b[0m\n",
      "\u001b[1;32m~\\Anaconda3\\lib\\site-packages\\sklearn\\feature_extraction\\text.py\u001b[0m in \u001b[0;36mfit_transform\u001b[1;34m(self, raw_documents, y)\u001b[0m\n\u001b[0;32m   1056\u001b[0m \u001b[1;33m\u001b[0m\u001b[0m\n\u001b[0;32m   1057\u001b[0m         vocabulary, X = self._count_vocab(raw_documents,\n\u001b[1;32m-> 1058\u001b[1;33m                                           self.fixed_vocabulary_)\n\u001b[0m\u001b[0;32m   1059\u001b[0m \u001b[1;33m\u001b[0m\u001b[0m\n\u001b[0;32m   1060\u001b[0m         \u001b[1;32mif\u001b[0m \u001b[0mself\u001b[0m\u001b[1;33m.\u001b[0m\u001b[0mbinary\u001b[0m\u001b[1;33m:\u001b[0m\u001b[1;33m\u001b[0m\u001b[1;33m\u001b[0m\u001b[0m\n",
      "\u001b[1;32m~\\Anaconda3\\lib\\site-packages\\sklearn\\feature_extraction\\text.py\u001b[0m in \u001b[0;36m_count_vocab\u001b[1;34m(self, raw_documents, fixed_vocab)\u001b[0m\n\u001b[0;32m    968\u001b[0m         \u001b[1;32mfor\u001b[0m \u001b[0mdoc\u001b[0m \u001b[1;32min\u001b[0m \u001b[0mraw_documents\u001b[0m\u001b[1;33m:\u001b[0m\u001b[1;33m\u001b[0m\u001b[1;33m\u001b[0m\u001b[0m\n\u001b[0;32m    969\u001b[0m             \u001b[0mfeature_counter\u001b[0m \u001b[1;33m=\u001b[0m \u001b[1;33m{\u001b[0m\u001b[1;33m}\u001b[0m\u001b[1;33m\u001b[0m\u001b[1;33m\u001b[0m\u001b[0m\n\u001b[1;32m--> 970\u001b[1;33m             \u001b[1;32mfor\u001b[0m \u001b[0mfeature\u001b[0m \u001b[1;32min\u001b[0m \u001b[0manalyze\u001b[0m\u001b[1;33m(\u001b[0m\u001b[0mdoc\u001b[0m\u001b[1;33m)\u001b[0m\u001b[1;33m:\u001b[0m\u001b[1;33m\u001b[0m\u001b[1;33m\u001b[0m\u001b[0m\n\u001b[0m\u001b[0;32m    971\u001b[0m                 \u001b[1;32mtry\u001b[0m\u001b[1;33m:\u001b[0m\u001b[1;33m\u001b[0m\u001b[1;33m\u001b[0m\u001b[0m\n\u001b[0;32m    972\u001b[0m                     \u001b[0mfeature_idx\u001b[0m \u001b[1;33m=\u001b[0m \u001b[0mvocabulary\u001b[0m\u001b[1;33m[\u001b[0m\u001b[0mfeature\u001b[0m\u001b[1;33m]\u001b[0m\u001b[1;33m\u001b[0m\u001b[1;33m\u001b[0m\u001b[0m\n",
      "\u001b[1;32m~\\Anaconda3\\lib\\site-packages\\sklearn\\feature_extraction\\text.py\u001b[0m in \u001b[0;36m<lambda>\u001b[1;34m(doc)\u001b[0m\n\u001b[0;32m    350\u001b[0m                                                tokenize)\n\u001b[0;32m    351\u001b[0m             return lambda doc: self._word_ngrams(\n\u001b[1;32m--> 352\u001b[1;33m                 tokenize(preprocess(self.decode(doc))), stop_words)\n\u001b[0m\u001b[0;32m    353\u001b[0m \u001b[1;33m\u001b[0m\u001b[0m\n\u001b[0;32m    354\u001b[0m         \u001b[1;32melse\u001b[0m\u001b[1;33m:\u001b[0m\u001b[1;33m\u001b[0m\u001b[1;33m\u001b[0m\u001b[0m\n",
      "\u001b[1;32m~\\Anaconda3\\lib\\site-packages\\sklearn\\feature_extraction\\text.py\u001b[0m in \u001b[0;36mdecode\u001b[1;34m(self, doc)\u001b[0m\n\u001b[0;32m    141\u001b[0m \u001b[1;33m\u001b[0m\u001b[0m\n\u001b[0;32m    142\u001b[0m         \u001b[1;32mif\u001b[0m \u001b[0mdoc\u001b[0m \u001b[1;32mis\u001b[0m \u001b[0mnp\u001b[0m\u001b[1;33m.\u001b[0m\u001b[0mnan\u001b[0m\u001b[1;33m:\u001b[0m\u001b[1;33m\u001b[0m\u001b[1;33m\u001b[0m\u001b[0m\n\u001b[1;32m--> 143\u001b[1;33m             raise ValueError(\"np.nan is an invalid document, expected byte or \"\n\u001b[0m\u001b[0;32m    144\u001b[0m                              \"unicode string.\")\n\u001b[0;32m    145\u001b[0m \u001b[1;33m\u001b[0m\u001b[0m\n",
      "\u001b[1;31mValueError\u001b[0m: np.nan is an invalid document, expected byte or unicode string."
     ]
    }
   ],
   "source": [
    "# Split the data to training and test subsets\n",
    "X_train, X_test, y_train, y_test = train_test_split(df['DescriptionTitle'], df['Label'], random_state=1,\n",
    "                                                    test_size=0.25)\n",
    "print(f'Size of the training subset: {len(X_train)}')\n",
    "\n",
    "tfidf = TfidfVectorizer()\n",
    "X_train_tf = tfidf.fit_transform(X_train)\n",
    "X_test_tf =tfidf.transform(X_test)"
   ]
  },
  {
   "cell_type": "code",
   "execution_count": 31,
   "metadata": {},
   "outputs": [
    {
     "name": "stdout",
     "output_type": "stream",
     "text": [
      "Size of the training subset: 29637\n"
     ]
    }
   ],
   "source": [
    "# Split the data to training and test subsets\n",
    "X_train, X_test, y_train, y_test = train_test_split(df['Description'], df['Label'], random_state=1,\n",
    "                                                    test_size=0.25)\n",
    "\n",
    "print(f'Size of the training subset: {len(X_train)}')\n",
    "\n",
    "# Remove stop word, change to lowercase, etc. \n",
    "cv = CountVectorizer(strip_accents='ascii', token_pattern=u'(?ui)\\\\b\\\\w*[a-z]+\\\\w*\\\\b', lowercase=True, stop_words='english')\n",
    "X_train_cv = cv.fit_transform(X_train)\n",
    "X_test_cv = cv.transform(X_test)"
   ]
  },
  {
   "cell_type": "code",
   "execution_count": 56,
   "metadata": {},
   "outputs": [
    {
     "data": {
      "text/html": [
       "<div>\n",
       "<style scoped>\n",
       "    .dataframe tbody tr th:only-of-type {\n",
       "        vertical-align: middle;\n",
       "    }\n",
       "\n",
       "    .dataframe tbody tr th {\n",
       "        vertical-align: top;\n",
       "    }\n",
       "\n",
       "    .dataframe thead th {\n",
       "        text-align: right;\n",
       "    }\n",
       "</style>\n",
       "<table border=\"1\" class=\"dataframe\">\n",
       "  <thead>\n",
       "    <tr style=\"text-align: right;\">\n",
       "      <th></th>\n",
       "      <th>Description</th>\n",
       "      <th>Issue type</th>\n",
       "      <th>Title</th>\n",
       "      <th>Label</th>\n",
       "    </tr>\n",
       "  </thead>\n",
       "  <tbody>\n",
       "    <tr>\n",
       "      <td>0</td>\n",
       "      <td>it would be nice to have an includes / exclude...</td>\n",
       "      <td>Improvement</td>\n",
       "      <td>add includes excludes feature in dependencies ...</td>\n",
       "      <td>1</td>\n",
       "    </tr>\n",
       "    <tr>\n",
       "      <td>1</td>\n",
       "      <td>fr.jayasoft.ivy.util.Message.error(...); the e...</td>\n",
       "      <td>Bug</td>\n",
       "      <td>Error messages are only displayed when turning...</td>\n",
       "      <td>0</td>\n",
       "    </tr>\n",
       "    <tr>\n",
       "      <td>2</td>\n",
       "      <td>When I do a retrieve I would like to tell the ...</td>\n",
       "      <td>New Feature</td>\n",
       "      <td>Add a \"delete\" parameter to the retrieve task</td>\n",
       "      <td>1</td>\n",
       "    </tr>\n",
       "    <tr>\n",
       "      <td>3</td>\n",
       "      <td>It would be sometimes useful to be able to def...</td>\n",
       "      <td>Improvement</td>\n",
       "      <td>possibility to define property in ivyconf.xml</td>\n",
       "      <td>1</td>\n",
       "    </tr>\n",
       "    <tr>\n",
       "      <td>4</td>\n",
       "      <td>a stack overflow error occurs when trying to f...</td>\n",
       "      <td>Bug</td>\n",
       "      <td>stack overflow error in some conflicts cases</td>\n",
       "      <td>0</td>\n",
       "    </tr>\n",
       "    <tr>\n",
       "      <td>...</td>\n",
       "      <td>...</td>\n",
       "      <td>...</td>\n",
       "      <td>...</td>\n",
       "      <td>...</td>\n",
       "    </tr>\n",
       "    <tr>\n",
       "      <td>1533</td>\n",
       "      <td>according to http://www.apache.org/dev/release...</td>\n",
       "      <td>Task</td>\n",
       "      <td>publish sha512 sums with releases</td>\n",
       "      <td>1</td>\n",
       "    </tr>\n",
       "    <tr>\n",
       "      <td>1534</td>\n",
       "      <td>When resolving a version, Ivy gets an HTML lis...</td>\n",
       "      <td>Bug</td>\n",
       "      <td>Ivy skips entries in URL list where URL is enc...</td>\n",
       "      <td>0</td>\n",
       "    </tr>\n",
       "    <tr>\n",
       "      <td>1535</td>\n",
       "      <td>Hi,\\r\\n\\r\\nWe have 40+ modules, for some of mo...</td>\n",
       "      <td>Bug</td>\n",
       "      <td>resolve loops and throws StackOverflowError</td>\n",
       "      <td>0</td>\n",
       "    </tr>\n",
       "    <tr>\n",
       "      <td>1536</td>\n",
       "      <td>[https://github.com/apache/ant-ivy/blob/9003b5...</td>\n",
       "      <td>Bug</td>\n",
       "      <td>URLHandlerDispatcher Class description is misl...</td>\n",
       "      <td>0</td>\n",
       "    </tr>\n",
       "    <tr>\n",
       "      <td>1537</td>\n",
       "      <td>While searching for an unavailable artifact an...</td>\n",
       "      <td>Improvement</td>\n",
       "      <td>Look for Thread interruption on potentially lo...</td>\n",
       "      <td>1</td>\n",
       "    </tr>\n",
       "  </tbody>\n",
       "</table>\n",
       "<p>1538 rows × 4 columns</p>\n",
       "</div>"
      ],
      "text/plain": [
       "                                            Description   Issue type  \\\n",
       "0     it would be nice to have an includes / exclude...  Improvement   \n",
       "1     fr.jayasoft.ivy.util.Message.error(...); the e...          Bug   \n",
       "2     When I do a retrieve I would like to tell the ...  New Feature   \n",
       "3     It would be sometimes useful to be able to def...  Improvement   \n",
       "4     a stack overflow error occurs when trying to f...          Bug   \n",
       "...                                                 ...          ...   \n",
       "1533  according to http://www.apache.org/dev/release...         Task   \n",
       "1534  When resolving a version, Ivy gets an HTML lis...          Bug   \n",
       "1535  Hi,\\r\\n\\r\\nWe have 40+ modules, for some of mo...          Bug   \n",
       "1536  [https://github.com/apache/ant-ivy/blob/9003b5...          Bug   \n",
       "1537  While searching for an unavailable artifact an...  Improvement   \n",
       "\n",
       "                                                  Title  Label  \n",
       "0     add includes excludes feature in dependencies ...      1  \n",
       "1     Error messages are only displayed when turning...      0  \n",
       "2         Add a \"delete\" parameter to the retrieve task      1  \n",
       "3         possibility to define property in ivyconf.xml      1  \n",
       "4          stack overflow error in some conflicts cases      0  \n",
       "...                                                 ...    ...  \n",
       "1533                  publish sha512 sums with releases      1  \n",
       "1534  Ivy skips entries in URL list where URL is enc...      0  \n",
       "1535        resolve loops and throws StackOverflowError      0  \n",
       "1536  URLHandlerDispatcher Class description is misl...      0  \n",
       "1537  Look for Thread interruption on potentially lo...      1  \n",
       "\n",
       "[1538 rows x 4 columns]"
      ]
     },
     "execution_count": 56,
     "metadata": {},
     "output_type": "execute_result"
    }
   ],
   "source": [
    "df_ant_ivy = pd.read_csv('ant-ivy.csv')\n",
    "df_ant_ivy"
   ]
  },
  {
   "cell_type": "code",
   "execution_count": null,
   "metadata": {},
   "outputs": [],
   "source": [
    "# Split the data to training and test subsets\n",
    "X_train, X_test, y_train, y_test = train_test_split(df['DescriptionTitle'], df['Label'], random_state=1,\n",
    "                                                    test_size=0.25)\n",
    "print(f'Size of the training subset: {len(X_train)}')\n",
    "\n",
    "\n",
    "tfidf = TfidfVectorizer()\n",
    "X_train_tf = tfidf.fit_transform(X_train)\n",
    "X_test_tf =tfidf.transform(X_test)"
   ]
  },
  {
   "cell_type": "markdown",
   "metadata": {},
   "source": [
    "### Training the model"
   ]
  },
  {
   "cell_type": "code",
   "execution_count": 75,
   "metadata": {},
   "outputs": [],
   "source": [
    "tf_acc = []\n",
    "cv_acc = []"
   ]
  },
  {
   "cell_type": "code",
   "execution_count": 82,
   "metadata": {},
   "outputs": [],
   "source": [
    "# Naive Bayes model\n",
    "naive_bayes = MultinomialNB()\n",
    "\n",
    "# Training\n",
    "naive_bayes.fit(X_train_tf, y_train)\n",
    "\n",
    "# Testing\n",
    "predictions = naive_bayes.predict(X_test_tf)"
   ]
  },
  {
   "cell_type": "code",
   "execution_count": 83,
   "metadata": {},
   "outputs": [
    {
     "name": "stdout",
     "output_type": "stream",
     "text": [
      "Accuracy score:  0.7767992711812937\n",
      "Precision score:  0.7807959570435882\n",
      "Recall score:  0.7610837438423645\n",
      "F1 score: 0.7708138447146867\n"
     ]
    }
   ],
   "source": [
    "print('Accuracy score: ', accuracy_score(y_test, predictions))\n",
    "print('Precision score: ', precision_score(y_test, predictions))\n",
    "print('Recall score: ', recall_score(y_test, predictions))\n",
    "print('F1 score:', f1_score(y_test, predictions))\n",
    "\n",
    "#tf_acc.append(accuracy_score(y_test, predictions))\n",
    "#cv_acc.append(accuracy_score(y_test, predictions))"
   ]
  },
  {
   "cell_type": "code",
   "execution_count": 125,
   "metadata": {},
   "outputs": [
    {
     "name": "stderr",
     "output_type": "stream",
     "text": [
      "C:\\Users\\Zorigto\\Anaconda3\\lib\\site-packages\\sklearn\\ensemble\\forest.py:245: FutureWarning: The default value of n_estimators will change from 10 in version 0.20 to 100 in 0.22.\n",
      "  \"10 in version 0.20 to 100 in 0.22.\", FutureWarning)\n"
     ]
    }
   ],
   "source": [
    "# Random Forest model\n",
    "rfc = RandomForestClassifier(random_state=0)\n",
    "\n",
    "rfc.fit(X_train_cv, y_train)\n",
    "\n",
    "predictions = rfc.predict(X_test_cv)"
   ]
  },
  {
   "cell_type": "code",
   "execution_count": 126,
   "metadata": {},
   "outputs": [
    {
     "name": "stdout",
     "output_type": "stream",
     "text": [
      "Accuracy score:  0.7340823970037453\n",
      "Precision score:  0.7692492204365555\n",
      "Recall score:  0.6582512315270936\n",
      "F1 score: 0.7094347970357262\n"
     ]
    }
   ],
   "source": [
    "print('Accuracy score: ', accuracy_score(y_test, predictions))\n",
    "print('Precision score: ', precision_score(y_test, predictions))\n",
    "print('Recall score: ', recall_score(y_test, predictions))\n",
    "print('F1 score:', f1_score(y_test, predictions))\n",
    "\n",
    "#tf_acc.append(accuracy_score(y_test, predictions))\n",
    "#cv_acc.append(accuracy_score(y_test, predictions))"
   ]
  },
  {
   "cell_type": "code",
   "execution_count": 107,
   "metadata": {},
   "outputs": [],
   "source": [
    "elastic = LogisticRegression() \n",
    "\n",
    "elastic.fit(X_train_cv, y_train)\n",
    "\n",
    "predictions = elastic.predict(X_test_cv)"
   ]
  },
  {
   "cell_type": "code",
   "execution_count": 108,
   "metadata": {
    "scrolled": true
   },
   "outputs": [
    {
     "name": "stdout",
     "output_type": "stream",
     "text": [
      "Accuracy score:  0.7863144042919323\n",
      "Precision score:  0.7645142747652807\n",
      "Recall score:  0.8189655172413793\n",
      "F1 score: 0.7908036864532753\n"
     ]
    }
   ],
   "source": [
    "print('Accuracy score: ', accuracy_score(y_test, predictions))\n",
    "print('Precision score: ', precision_score(y_test, predictions))\n",
    "print('Recall score: ', recall_score(y_test, predictions))\n",
    "print('F1 score:', f1_score(y_test, predictions))\n",
    "\n",
    "#tf_acc.append(accuracy_score(y_test, predictions))\n",
    "#cv_acc.append(accuracy_score(y_test, predictions))"
   ]
  },
  {
   "cell_type": "code",
   "execution_count": null,
   "metadata": {},
   "outputs": [],
   "source": [
    "# KNN mb?"
   ]
  },
  {
   "cell_type": "code",
   "execution_count": 55,
   "metadata": {},
   "outputs": [],
   "source": [
    "# # SV model\n",
    "# svc = svm.SVC()\n",
    "\n",
    "# svc.fit(X_train_tf, y_train)\n",
    "\n",
    "# predictions = svc.predict(X_test_tf)"
   ]
  },
  {
   "cell_type": "markdown",
   "metadata": {},
   "source": [
    "### Bar plot"
   ]
  },
  {
   "cell_type": "code",
   "execution_count": 71,
   "metadata": {},
   "outputs": [
    {
     "data": {
      "image/png": "[encoded data removed]",
      "text/plain": [
       "<Figure size 432x288 with 1 Axes>"
      ]
     },
     "metadata": {},
     "output_type": "display_data"
    }
   ],
   "source": [
    "import seaborn as sns\n",
    "\n",
    "sns.set(style=\"whitegrid\")\n",
    "#tips = sns.load_dataset(\"tips\")\n",
    "a = np.array([1, 2, 3, 4, 8, 16])\n",
    "\n",
    "df_a = pd.DataFrame(a)\n",
    "\n",
    "ax = sns.barplot(data=df_a)\n",
    "#type(tips)"
   ]
  },
  {
   "cell_type": "code",
   "execution_count": 101,
   "metadata": {},
   "outputs": [
    {
     "data": {
      "image/png": "[encoded data removed]",
      "text/plain": [
       "<Figure size 1296x864 with 1 Axes>"
      ]
     },
     "metadata": {},
     "output_type": "display_data"
    }
   ],
   "source": [
    "import matplotlib\n",
    "import matplotlib.pyplot as plt\n",
    "import numpy as np\n",
    "\n",
    "\n",
    "labels = ['Naive Bayes', 'Random Forest', 'Logistic Regression']\n",
    "#tf_acc = [77, 80, 74, 50, 50]\n",
    "#cv_acc = [64, 78, 76, 50, 50]\n",
    "\n",
    "x = np.arange(len(labels))  # the label locations\n",
    "width = 0.35  # the width of the bars\n",
    "\n",
    "fig, ax = plt.subplots(dpi=216)\n",
    "rects1 = ax.bar(x - width/2, tf_acc, width, label='TF-IDF')\n",
    "rects2 = ax.bar(x + width/2, cv_acc, width, label='CV')\n",
    "\n",
    "# Add some text for labels, title and custom x-axis tick labels, etc.\n",
    "ax.set_ylabel('Accuracy, %')\n",
    "ax.set_title('Accuracy by vectorizer and model')\n",
    "ax.set_xticks(x)\n",
    "ax.set_xticklabels(labels)\n",
    "ax.legend(loc = 'right')\n",
    "\n",
    "# Shrink current axis by 20%\n",
    "box = ax.get_position()\n",
    "ax.set_position([box.x0, box.y0, box.width * 0.8, box.height])\n",
    "\n",
    "# Put a legend to the right of the current axis\n",
    "ax.legend(loc='center left', bbox_to_anchor=(1, 0.5))\n",
    "\n",
    "ax.set_ylim(0, 1)\n",
    "\n",
    "def autolabel(rects):\n",
    "    \"\"\"Attach a text label above each bar in *rects*, displaying its height.\"\"\"\n",
    "    for rect in rects:\n",
    "        height = rect.get_height()\n",
    "        ax.annotate('{0:.0f}%'.format(height*100),\n",
    "                    xy=(rect.get_x() + rect.get_width() / 2, height),\n",
    "                    xytext=(0, 3),  # 3 points vertical offset\n",
    "                    textcoords=\"offset points\",\n",
    "                    ha='center', va='bottom')\n",
    "\n",
    "\n",
    "autolabel(rects1)\n",
    "autolabel(rects2)\n",
    "\n",
    "fig.tight_layout()\n",
    "\n",
    "plt.show()"
   ]
  },
  {
   "cell_type": "markdown",
   "metadata": {},
   "source": [
    "### Testing the trained model"
   ]
  },
  {
   "cell_type": "code",
   "execution_count": 135,
   "metadata": {},
   "outputs": [
    {
     "data": {
      "text/html": [
       "<div>\n",
       "<style scoped>\n",
       "    .dataframe tbody tr th:only-of-type {\n",
       "        vertical-align: middle;\n",
       "    }\n",
       "\n",
       "    .dataframe tbody tr th {\n",
       "        vertical-align: top;\n",
       "    }\n",
       "\n",
       "    .dataframe thead th {\n",
       "        text-align: right;\n",
       "    }\n",
       "</style>\n",
       "<table border=\"1\" class=\"dataframe\">\n",
       "  <thead>\n",
       "    <tr style=\"text-align: right;\">\n",
       "      <th></th>\n",
       "      <th>Description</th>\n",
       "      <th>Issue type</th>\n",
       "      <th>Label</th>\n",
       "    </tr>\n",
       "  </thead>\n",
       "  <tbody>\n",
       "    <tr>\n",
       "      <td>0</td>\n",
       "      <td>Hello I think I have found a bug</td>\n",
       "      <td>Improvement</td>\n",
       "      <td>1</td>\n",
       "    </tr>\n",
       "  </tbody>\n",
       "</table>\n",
       "</div>"
      ],
      "text/plain": [
       "                        Description   Issue type  Label\n",
       "0  Hello I think I have found a bug  Improvement      1"
      ]
     },
     "execution_count": 135,
     "metadata": {},
     "output_type": "execute_result"
    }
   ],
   "source": [
    "test = [['Hello I think I have found a bug', 'Improvement']]\n",
    "df_test = pd.DataFrame(test, columns =['Description', 'Issue type']) \n",
    "df_test['Label'] = df_test['Issue type'].apply(lambda x: 0 if x=='Bug' else 1)\n",
    "df_test"
   ]
  },
  {
   "cell_type": "code",
   "execution_count": 136,
   "metadata": {},
   "outputs": [
    {
     "name": "stdout",
     "output_type": "stream",
     "text": [
      "Input:  Hello I think I have found a bug\n",
      "Result: This is a bug\n",
      "Bug probability: 1.0\n"
     ]
    }
   ],
   "source": [
    "x_test = cv.transform(df_test['Description'])\n",
    "\n",
    "# # Naive Bayes model\n",
    "# naive_bayes = MultinomialNB()\n",
    "\n",
    "# # Training\n",
    "# naive_bayes.fit(X_train_cv, y_train)\n",
    "\n",
    "# # Testing\n",
    "# predictions = naive_bayes.predict(X_test_cv)\n",
    "\n",
    "print('Input: ', df_test['Description'][0])\n",
    "if rfc.predict(x_test)[0] == 0:\n",
    "    print('Result: This is a bug')\n",
    "else:\n",
    "    print('Result: This is not a bug')\n",
    "print(f'Bug probability: {rfc.predict_proba(x_test)[0,0]}')"
   ]
  },
  {
   "cell_type": "code",
   "execution_count": 117,
   "metadata": {},
   "outputs": [
    {
     "name": "stdout",
     "output_type": "stream",
     "text": [
      "Hey guys I think I have found an error or bug or fail\n"
     ]
    }
   ],
   "source": [
    "print(df_test['Description'][0])"
   ]
  },
  {
   "cell_type": "markdown",
   "metadata": {},
   "source": [
    "### TODO"
   ]
  },
  {
   "cell_type": "markdown",
   "metadata": {},
   "source": [
    "- Add new features to a model (extract them from title, creator_id)\n",
    "\n",
    "These features can be next:\n",
    "- Count specific words: (errors, warnings etc.)\n",
    "- Author bug to other_issue_type ratio (bug to non-bug ratio)\n",
    "- Count elements of code ( {}, _, // etc.)\n",
    "\n",
    "\n",
    "- Find good parameters (we can use MinMaxScaler)\n",
    "- Use several models for the final prediction, make a Pipeline\n",
    "- Use different projects"
   ]
  },
  {
   "cell_type": "code",
   "execution_count": 120,
   "metadata": {},
   "outputs": [],
   "source": [
    "a = X_train_tf.toarray()"
   ]
  },
  {
   "cell_type": "code",
   "execution_count": 125,
   "metadata": {},
   "outputs": [
    {
     "data": {
      "text/plain": [
       "array([[0., 0., 0., ..., 0., 0., 0.],\n",
       "       [0., 0., 0., ..., 0., 0., 0.],\n",
       "       [0., 0., 0., ..., 0., 0., 0.],\n",
       "       ...,\n",
       "       [0., 0., 0., ..., 0., 0., 0.],\n",
       "       [0., 0., 0., ..., 0., 0., 0.],\n",
       "       [0., 0., 0., ..., 0., 0., 0.]])"
      ]
     },
     "execution_count": 125,
     "metadata": {},
     "output_type": "execute_result"
    }
   ],
   "source": [
    "a"
   ]
  },
  {
   "cell_type": "code",
   "execution_count": 126,
   "metadata": {},
   "outputs": [],
   "source": [
    "b = X_test_tf.toarray()"
   ]
  },
  {
   "cell_type": "code",
   "execution_count": 127,
   "metadata": {},
   "outputs": [
    {
     "name": "stderr",
     "output_type": "stream",
     "text": [
      "C:\\Users\\Zorigto\\Anaconda3\\lib\\site-packages\\sklearn\\ensemble\\forest.py:245: FutureWarning: The default value of n_estimators will change from 10 in version 0.20 to 100 in 0.22.\n",
      "  \"10 in version 0.20 to 100 in 0.22.\", FutureWarning)\n"
     ]
    }
   ],
   "source": [
    "# Random Forest model\n",
    "rfc = RandomForestClassifier(random_state=0)\n",
    "\n",
    "rfc.fit(a, y_train)\n",
    "\n",
    "predictions = rfc.predict(b)"
   ]
  },
  {
   "cell_type": "code",
   "execution_count": null,
   "metadata": {},
   "outputs": [],
   "source": [
    "rfc.fit(X_test_tf, y_train)"
   ]
  },
  {
   "cell_type": "code",
   "execution_count": 116,
   "metadata": {},
   "outputs": [
    {
     "data": {
      "text/plain": [
       "(1056, 5364)"
      ]
     },
     "execution_count": 116,
     "metadata": {},
     "output_type": "execute_result"
    }
   ],
   "source": [
    "X_train_tf.shape"
   ]
  },
  {
   "cell_type": "code",
   "execution_count": 118,
   "metadata": {},
   "outputs": [
    {
     "data": {
      "text/plain": [
       "(1056,)"
      ]
     },
     "execution_count": 118,
     "metadata": {},
     "output_type": "execute_result"
    }
   ],
   "source": [
    "y_train.shape"
   ]
  },
  {
   "cell_type": "code",
   "execution_count": 128,
   "metadata": {},
   "outputs": [
    {
     "name": "stdout",
     "output_type": "stream",
     "text": [
      "Accuracy score:  0.7130681818181818\n",
      "Precision score:  0.7391304347826086\n",
      "Recall score:  0.7195767195767195\n",
      "F1 score: 0.7292225201072385\n"
     ]
    }
   ],
   "source": [
    "print('Accuracy score: ', accuracy_score(y_test, predictions))\n",
    "print('Precision score: ', precision_score(y_test, predictions))\n",
    "print('Recall score: ', recall_score(y_test, predictions))\n",
    "print('F1 score:', f1_score(y_test, predictions)) "
   ]
  },
  {
   "cell_type": "code",
   "execution_count": 139,
   "metadata": {},
   "outputs": [
    {
     "name": "stdout",
     "output_type": "stream",
     "text": [
      "/*\n",
      " * Copyright 2003\n",
      " \n",
      "I did some profiling\n",
      "In MathUtilsTest I f\n",
      "Added text to the ro\n",
      "Add PolynomialFuncti\n",
      "Index: src/java/org/\n",
      "RealMatrix (and so R\n",
      "MathUtils.round(39.2\n",
      "Patch adds the chang\n"
     ]
    }
   ],
   "source": [
    "for s in df['Description'][:10]:\n",
    "    print(s[:20])"
   ]
  },
  {
   "cell_type": "code",
   "execution_count": 150,
   "metadata": {},
   "outputs": [
    {
     "data": {
      "text/plain": [
       "1408"
      ]
     },
     "execution_count": 150,
     "metadata": {},
     "output_type": "execute_result"
    }
   ],
   "source": [
    "error_count = []\n",
    "for i in range(len(df['TitleDescription'])):\n",
    "    error_count.append(df['TitleDescription'][i].count('bug'))\n",
    "    \n",
    "len(error_count)"
   ]
  },
  {
   "cell_type": "code",
   "execution_count": 217,
   "metadata": {},
   "outputs": [
    {
     "name": "stdout",
     "output_type": "stream",
     "text": [
      "Size of the training subset: 1056\n"
     ]
    }
   ],
   "source": [
    "error_train, error_test, y_train, y_test = train_test_split(error_count, df3['Label'], random_state=1,\n",
    "                                                    test_size=0.25)\n",
    "print(f'Size of the training subset: {len(error_train)}')"
   ]
  },
  {
   "cell_type": "code",
   "execution_count": 218,
   "metadata": {},
   "outputs": [
    {
     "data": {
      "text/plain": [
       "1056"
      ]
     },
     "execution_count": 218,
     "metadata": {},
     "output_type": "execute_result"
    }
   ],
   "source": [
    "len(error_train)"
   ]
  },
  {
   "cell_type": "code",
   "execution_count": 173,
   "metadata": {},
   "outputs": [
    {
     "data": {
      "text/plain": [
       "(1056, 5364)"
      ]
     },
     "execution_count": 173,
     "metadata": {},
     "output_type": "execute_result"
    }
   ],
   "source": [
    "X_train_tf.toarray().shape"
   ]
  },
  {
   "cell_type": "code",
   "execution_count": 210,
   "metadata": {},
   "outputs": [],
   "source": [
    "X_with_errors = np.column_stack([X_train_cv.toarray(), np.asarray(error_train)])"
   ]
  },
  {
   "cell_type": "code",
   "execution_count": 211,
   "metadata": {},
   "outputs": [],
   "source": [
    "X_test_with_errors = np.column_stack([X_test_cv.toarray(), np.asarray(error_test)])"
   ]
  },
  {
   "cell_type": "code",
   "execution_count": 195,
   "metadata": {},
   "outputs": [
    {
     "data": {
      "text/plain": [
       "0.9984609185615991"
      ]
     },
     "execution_count": 195,
     "metadata": {},
     "output_type": "execute_result"
    }
   ],
   "source": [
    "X_train_tf.max()"
   ]
  },
  {
   "cell_type": "code",
   "execution_count": 197,
   "metadata": {},
   "outputs": [
    {
     "data": {
      "text/plain": [
       "199"
      ]
     },
     "execution_count": 197,
     "metadata": {},
     "output_type": "execute_result"
    }
   ],
   "source": [
    "X_train_cv.max()"
   ]
  },
  {
   "cell_type": "code",
   "execution_count": 219,
   "metadata": {},
   "outputs": [],
   "source": [
    "# Naive Bayes model\n",
    "naive_bayes = MultinomialNB()\n",
    "\n",
    "# Training\n",
    "naive_bayes.fit(X_with_errors, y_train)\n",
    "\n",
    "# Testing\n",
    "predictions = naive_bayes.predict(X_test_with_errors)"
   ]
  },
  {
   "cell_type": "code",
   "execution_count": 220,
   "metadata": {},
   "outputs": [
    {
     "name": "stdout",
     "output_type": "stream",
     "text": [
      "Accuracy score:  0.7073863636363636\n",
      "Precision score:  0.7087378640776699\n",
      "Recall score:  0.7724867724867724\n",
      "F1 score: 0.7392405063291139\n"
     ]
    }
   ],
   "source": [
    "print('Accuracy score: ', accuracy_score(y_test, predictions))\n",
    "print('Precision score: ', precision_score(y_test, predictions))\n",
    "print('Recall score: ', recall_score(y_test, predictions))\n",
    "print('F1 score:', f1_score(y_test, predictions))"
   ]
  },
  {
   "cell_type": "code",
   "execution_count": null,
   "metadata": {},
   "outputs": [],
   "source": []
  }
 ],
 "metadata": {
  "kernelspec": {
   "display_name": "Python 3",
   "language": "python",
   "name": "python3"
  },
  "language_info": {
   "codemirror_mode": {
    "name": "ipython",
    "version": 3
   },
   "file_extension": ".py",
   "mimetype": "text/x-python",
   "name": "python",
   "nbconvert_exporter": "python",
   "pygments_lexer": "ipython3",
   "version": "3.7.4"
  }
 },
 "nbformat": 4,
 "nbformat_minor": 2
}
